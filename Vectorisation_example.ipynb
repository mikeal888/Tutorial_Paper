{
 "cells": [
  {
   "cell_type": "markdown",
   "id": "92d26116-2e4b-4acd-bc3f-636cd08551ec",
   "metadata": {},
   "source": [
    "# In this notebook we will demonstrate how one can vectorise the density operator for efficient simulations using qutip\n",
    "\n",
    "We can make use of a very powerful formalism to learn about the steadystate behaviour of our system. \n",
    "This system recasts the matrix behaviour of the Lindblad superoperators, and the density operator into a linear matrix equation.\n",
    "The $2d\\times2d$ density operator can be recast as a column vector where the columns of the density operator are stacked\n",
    "\\begin{equation}\n",
    "    \\hat{\\rho} = \n",
    "    \\left(\n",
    "    \\begin{array}{cc}\n",
    "    a   &  b\\\\\n",
    "    c   & d\n",
    "    \\end{array}\n",
    "    \\right)\n",
    "    \\rightarrow\n",
    "    \\mathrm{vec}(\\hat{\\rho}) = |{\\rho}\\rangle \n",
    "    = \\left(\n",
    "    \\begin{array}{c}\n",
    "        a  \\\\ c \\\\ b \\\\ d\n",
    "    \\end{array}\\right)\n",
    "    \\,.\n",
    "\\end{equation}\n",
    "This is equivalent to the Choi-Jamiolkowski Isomorphism \n",
    "\\begin{equation}\n",
    "    \\hat{\\rho} = \\sum_{ij}p_{ij}|{i}\\rangle \\langle{j}| \\rightarrow |{\\rho}\\rangle = \\sum_{ij} p_{ij}|{j}\\rangle \\otimes |{i}\\rangle\\,.\n",
    "\\end{equation}\n",
    "The product between operators can readily be defined as \n",
    "\\begin{equation}\n",
    "\\label{eq:vecABC}\n",
    "    \\mathrm{vec}(ABC) = \\left(C^{T} \\otimes A\\right) |{B}\\rangle ,\n",
    "\\end{equation}\n",
    "which will allow us to rewrite the superoperator $\\mathcal{L}$ as a matrix $\\hat{\\mathcal{L}}$.\n",
    "This is a very useful formalism since the inner product between operators can then be represented as\n",
    "\\begin{equation}\n",
    "    tr[\\hat{A}^{\\dagger} \\hat{B}] = \\langle {A^{\\dagger}} | {B} \\rangle\\,,\n",
    "\\end{equation}\n",
    "and the trace operator is defined as the inner product with the identity, which for the density operator reads\n",
    "\\begin{equation}\n",
    "    tr[\\hat{\\rho}] = \\langle {I} | {\\rho}\\rangle = 1\\,,\n",
    "\\end{equation}\n",
    "where the identity is defined as\n",
    "\\begin{equation}\n",
    "    |{I}\\rangle  = \\sum_{i} |{i} \\rangle\\otimes |{i}\\rangle\\,,\n",
    "\\end{equation}\n",
    "which is the maximally entangled, unnormalised Bell state.\n",
    "\n",
    "Let's now consider a simple example of the Lindblad master  where we will make use of the multiplication operator such that $\\mathrm{vec}({\\hat{H}\\hat{\\rho}}) = (I \\otimes \\hat{H}) |{\\rho} \\rangle$ and the unitary part becomes\n",
    "\\begin{equation}\n",
    "    \\mathrm{vec}\\left(-i \\left[\\hat{H}, \\hat{\\rho}\\right]\\right) \n",
    "    =\n",
    "    - i \\left(I \\otimes \\hat{H} - \\hat{H} \\otimes I\\right) |{\\rho}\\rangle \\,.\n",
    "\\end{equation}\n",
    "The dissipator becomes \n",
    "\\begin{equation}\n",
    "    \\mathrm{vec}\\left(\\mathcal{D}[\\hat{L}]\\hat{\\rho}\\right) = \n",
    "    \\left(\\hat{L}^{*} \\otimes \\hat{L} - \\frac{1}{2} I \\otimes \\hat{L}^{\\dagger}\\hat{L} + \\frac{1}{2} (\\hat{L}^{\\dagger}\\hat{L})^{T} \\otimes I\\right) |{\\rho}\\rangle\n",
    "\\end{equation}\n"
   ]
  },
  {
   "cell_type": "code",
   "execution_count": 1,
   "id": "2d16f787-8837-4dea-a1d8-b3a11b9621a9",
   "metadata": {},
   "outputs": [],
   "source": [
    "import numpy as np\n",
    "import matplotlib.pyplot as plt\n",
    "from qutip import *\n",
    "\n",
    "plt.rcParams.update({\n",
    "    \"text.usetex\": True,\n",
    "    \"font.size\" : 24})"
   ]
  },
  {
   "cell_type": "markdown",
   "id": "995d1359-604e-4d2e-bf0d-43630173870c",
   "metadata": {},
   "source": [
    "Let's first consider a very simple example of an atom coupled to a bath and undergoing spontaneous emission subject to some coherent Rabi oscillations $\\Omega \\sigma_{x}$. The Lindblad for this system that is s\n",
    "\n",
    "\\begin{equation}\n",
    "\\frac{d \\rho}{dt} = \\gamma \\mathcal{D}[\\sigma_{-}]\\rho\n",
    "\\end{equation}\n",
    "\n",
    "We will start by defining the system operators required for this system"
   ]
  },
  {
   "cell_type": "code",
   "execution_count": 2,
   "id": "2d6adfc0-449c-4554-a53e-ab001005ccba",
   "metadata": {},
   "outputs": [],
   "source": [
    "# System dimensions\n",
    "N = 2\n",
    "γ = 0.5\n",
    "Ω = 2\n",
    "\n",
    "# Initial state\n",
    "ρ = fock_dm(N, 0)\n",
    "\n",
    "# System operators\n",
    "a = destroy(N)\n",
    "σx = sigmax()\n",
    "σz = sigmaz()\n",
    "σy = sigmay()\n",
    "nc = a.dag()*a\n",
    "σm = sigmam()\n",
    "\n",
    "# Collapse operators\n",
    "c_ops = [np.sqrt(γ)*σm]\n",
    "e_ops = [σz, σx]\n",
    "\n",
    "# Hamiltonian\n",
    "I = identity(N)\n",
    "H0 = Ω*σx\n",
    "\n",
    "# vectorise operators\n",
    "σz_vec = operator_to_vector(σz).trans()\n",
    "\n",
    "# Define times as \n",
    "t0, tM, dt = 0, 10, 0.01\n",
    "t = np.arange(t0, tM, dt)\n",
    "ts = np.arange(t0, tM, 0.5)"
   ]
  },
  {
   "cell_type": "code",
   "execution_count": 3,
   "id": "04c03635-9e0b-4e0a-b2c7-178b1a3a7795",
   "metadata": {},
   "outputs": [
    {
     "data": {
      "text/latex": [
       "Quantum object: dims = [[[2], [2]], [1]], shape = (4, 1), type = operator-ket\\begin{equation*}\\left(\\begin{array}{*{11}c}1.0\\\\0.0\\\\0.0\\\\0.0\\\\\\end{array}\\right)\\end{equation*}"
      ],
      "text/plain": [
       "Quantum object: dims = [[[2], [2]], [1]], shape = (4, 1), type = operator-ket\n",
       "Qobj data =\n",
       "[[1.]\n",
       " [0.]\n",
       " [0.]\n",
       " [0.]]"
      ]
     },
     "execution_count": 3,
     "metadata": {},
     "output_type": "execute_result"
    }
   ],
   "source": [
    "# We can now vectorise the density operator using the following function \n",
    "ρvec = operator_to_vector(ρ)\n",
    "\n",
    "ρvec"
   ]
  },
  {
   "cell_type": "markdown",
   "id": "49581ff3-bc82-482e-a0e1-26a913214c60",
   "metadata": {},
   "source": [
    "It is worth pausing for a second and defining a few superoperators that may be useful in qutip.\n",
    "We can define the pre and post superoperators for an operator $A$ as\n",
    "\\begin{equation}\n",
    "\\mathrm{spre} = I \\otimes A \\quad \\mathrm{spost} = A \\otimes I \\quad \\mathrm{to\\_super} = A^{*}\\otimes A\n",
    "\\end{equation}\n",
    "We will demonstrate this here using the $\\sigma_{y}$ operator"
   ]
  },
  {
   "cell_type": "code",
   "execution_count": 4,
   "id": "0563312e-e859-4cc2-bea2-7aa77952f5f8",
   "metadata": {},
   "outputs": [
    {
     "data": {
      "text/plain": [
       "True"
      ]
     },
     "execution_count": 4,
     "metadata": {},
     "output_type": "execute_result"
    }
   ],
   "source": [
    "to_super(σy) == Qobj(tensor(σy.conj(),σy), type='super')"
   ]
  },
  {
   "cell_type": "code",
   "execution_count": 5,
   "id": "aee1b58e-3dca-48b2-a76f-553bed0b3995",
   "metadata": {},
   "outputs": [
    {
     "data": {
      "text/plain": [
       "True"
      ]
     },
     "execution_count": 5,
     "metadata": {},
     "output_type": "execute_result"
    }
   ],
   "source": [
    "spre(σy) == Qobj(tensor(I,σy), type='super')"
   ]
  },
  {
   "cell_type": "code",
   "execution_count": 6,
   "id": "efcf7452-891e-4c1a-b465-0036a9d68141",
   "metadata": {},
   "outputs": [
    {
     "data": {
      "text/plain": [
       "True"
      ]
     },
     "execution_count": 6,
     "metadata": {},
     "output_type": "execute_result"
    }
   ],
   "source": [
    "spost(σy) == Qobj(tensor(σy.trans(),I), type='super')"
   ]
  },
  {
   "cell_type": "markdown",
   "id": "011bcffb-4d4c-44fc-afd5-aaf8004ca2a1",
   "metadata": {},
   "source": [
    "We can make use of the Liouvillian function which will compute the superoperator of the Liouvillain for our Hamiltonian and collapse operators"
   ]
  },
  {
   "cell_type": "code",
   "execution_count": 7,
   "id": "6d971242-3dfd-46e5-ac34-30397a3e772f",
   "metadata": {},
   "outputs": [],
   "source": [
    "# Compute Liouvillian\n",
    "ℒ = liouvillian(H0, c_ops)\n",
    "\n",
    "# Compute expectation value with using vectorize σz\n",
    "σze = np.array([np.real((σz_vec*(ℒ*ti).expm()*ρvec)[0,0]) for ti in ts])\n",
    "\n",
    "# Solve using master equation\n",
    "result = mesolve(H0, ρ, t, c_ops=c_ops, e_ops=e_ops)"
   ]
  },
  {
   "cell_type": "code",
   "execution_count": 8,
   "id": "0d229a88-6ed7-47fe-b4a7-fb588769f6a6",
   "metadata": {},
   "outputs": [
    {
     "data": {
      "image/png": "[encoded data removed]",
      "text/plain": [
       "<Figure size 720x360 with 1 Axes>"
      ]
     },
     "metadata": {
      "needs_background": "light"
     },
     "output_type": "display_data"
    }
   ],
   "source": [
    "fs = 20\n",
    "\n",
    "plt.figure(figsize=(10,5))\n",
    "plt.plot(t, result.expect[0], 'r', label='mesolve')\n",
    "plt.plot(ts, σze, 'bo', label=r'$\\langle \\sigma_{z} | e^{\\mathcal{L}t} | \\rho \\rangle$')\n",
    "\n",
    "\n",
    "plt.xticks(fontsize=fs)\n",
    "plt.yticks(fontsize=fs)\n",
    "plt.xlim([t0, tM])\n",
    "plt.ylim([-1,1])\n",
    "\n",
    "plt.xlabel(r'$t$', fontsize=fs)\n",
    "plt.ylabel(r'$\\langle \\sigma_{z} \\rangle$', fontsize=fs)\n",
    "plt.grid(linestyle='--')\n",
    "\n",
    "plt.legend(fontsize=fs)\n",
    "plt.show()"
   ]
  }
 ],
 "metadata": {
  "kernelspec": {
   "display_name": "Python 3 (ipykernel)",
   "language": "python",
   "name": "python3"
  },
  "language_info": {
   "codemirror_mode": {
    "name": "ipython",
    "version": 3
   },
   "file_extension": ".py",
   "mimetype": "text/x-python",
   "name": "python",
   "nbconvert_exporter": "python",
   "pygments_lexer": "ipython3",
   "version": "3.9.7"
  }
 },
 "nbformat": 4,
 "nbformat_minor": 5
}
